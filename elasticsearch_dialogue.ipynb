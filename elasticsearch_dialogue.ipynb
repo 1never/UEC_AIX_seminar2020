{
  "nbformat": 4,
  "nbformat_minor": 0,
  "metadata": {
    "colab": {
      "name": "elasticsearch_dialogue.ipynb",
      "provenance": [],
      "collapsed_sections": []
    },
    "kernelspec": {
      "name": "python3",
      "display_name": "Python 3"
    }
  },
  "cells": [
    {
      "cell_type": "markdown",
      "metadata": {
        "id": "_9RaKsPbkZtv",
        "colab_type": "text"
      },
      "source": [
        "[Open with Colab](https://colab.research.google.com/github/1never/UEC_AIX_seminar2020/blob/master/elasticsearch_dialogue.ipynb)"
      ]
    },
    {
      "cell_type": "code",
      "metadata": {
        "id": "lxtBKhZA1Ge6",
        "colab_type": "code",
        "colab": {}
      },
      "source": [
        "# Elasticsearchのダウンロードと解凍\n",
        "!wget https://artifacts.elastic.co/downloads/elasticsearch/elasticsearch-7.0.0-linux-x86_64.tar.gz\n",
        "!tar -xzf elasticsearch-7.0.0-linux-x86_64.tar.gz\n",
        "\n",
        "# Elasticsearchの日本語形態素解析用プラグイン analysis-kuromojiのインストール\n",
        "!elasticsearch-7.0.0/bin/elasticsearch-plugin install analysis-kuromoji\n",
        "\n",
        "# Pythonのelasticsearchライブラリのインストール\n",
        "!pip install elasticsearch"
      ],
      "execution_count": null,
      "outputs": []
    },
    {
      "cell_type": "code",
      "metadata": {
        "id": "kUkpNT0Z2oJm",
        "colab_type": "code",
        "colab": {}
      },
      "source": [
        "# Elasticsearchの実行\n",
        "!pkill -f elasticsearch\n",
        "!chown -R daemon:daemon elasticsearch-7.0.0/bin/\n",
        "!chown -R daemon:daemon elasticsearch-7.0.0/\n",
        "\n",
        "import os\n",
        "from subprocess import Popen, PIPE, STDOUT\n",
        "es_server = Popen(['elasticsearch-7.0.0/bin/elasticsearch'], stdout=PIPE, stderr=STDOUT, preexec_fn=lambda: os.setuid(1))\n"
      ],
      "execution_count": 8,
      "outputs": []
    },
    {
      "cell_type": "code",
      "metadata": {
        "id": "KzbQdgGw9vw_",
        "colab_type": "code",
        "colab": {}
      },
      "source": [
        "# 接続テスト (上記の実行から30秒ほど待つ必要があります)\n",
        "!curl -X GET \"localhost:9200/\""
      ],
      "execution_count": null,
      "outputs": []
    },
    {
      "cell_type": "code",
      "metadata": {
        "id": "OhUNWtA52u57",
        "colab_type": "code",
        "colab": {}
      },
      "source": [
        "# Pythonライブラリによる接続テスト\n",
        "from elasticsearch import Elasticsearch, helpers\n",
        "es = Elasticsearch()\n",
        "es.ping()"
      ],
      "execution_count": null,
      "outputs": []
    },
    {
      "cell_type": "code",
      "metadata": {
        "id": "ebaWDTh56g12",
        "colab_type": "code",
        "colab": {}
      },
      "source": [
        "# データのダウンロード\n",
        "!git clone https://github.com/1never/UEC_AIX_seminar2020.git data\n",
        "\n",
        "# SF作家 海野十三の小説から抽出した対話データを解凍\n",
        "!unzip data/unno_pair.zip -y\n",
        "\n",
        "# 青空文庫全データの対話データを解凍\n",
        "!7za x data/aozora_pair.7z -y"
      ],
      "execution_count": null,
      "outputs": []
    },
    {
      "cell_type": "code",
      "metadata": {
        "id": "nu_hhv0I9xfy",
        "colab_type": "code",
        "colab": {}
      },
      "source": [
        "# 対話データをElasticsearchにインサート\n",
        "# filename = './unno_pair.txt'\n",
        "filename = './aozora_pair.txt'\n",
        "def load():\n",
        "    try:\n",
        "      es.delete_by_query(index='dialogue_pair', body={\"query\": {\"match_all\": {}}})\n",
        "      print(\"既存データを削除\")\n",
        "    except:\n",
        "      print(\"削除対象データなし\")\n",
        "      pass\n",
        "\n",
        "    with open(filename) as f:\n",
        "        for i, __ in enumerate(f):\n",
        "            print(i, '...', end='\\r')\n",
        "            __ = __.split('\\t')\n",
        "            query = __[0].strip()\n",
        "            response = __[1].strip()\n",
        "            item = {'_index':'dialogue_pair', '_type':'docs', '_source':{ 'query':query, 'response':response }}\n",
        "            yield item\n",
        "\n",
        "print(helpers.bulk(es, load()))"
      ],
      "execution_count": null,
      "outputs": []
    },
    {
      "cell_type": "code",
      "metadata": {
        "id": "YjObKNDA-VLP",
        "colab_type": "code",
        "colab": {}
      },
      "source": [
        "# プログラムがエラーで落ちた場合，一時的にElasticsearchに接続できなくなりますが，一定時間経つことで接続可能になります．\n",
        "es = Elasticsearch()\n",
        "\n",
        "def get_reply(utterance, size=10):\n",
        "  results = es.search(index='dialogue_pair', body={'query':{'match':{'query':utterance}}, 'size':size,})\n",
        "  return [result['_source']['response'] for result in results['hits']['hits']]\n",
        "\n",
        "res = None\n",
        "logs = []\n",
        "while(True):\n",
        "  u = input(\"\\n>\")\n",
        "  if \"exit\" == u:\n",
        "    break\n",
        "  elif u.isdecimal() and res is not None and int(u) < len(res):\n",
        "    u = res[int(u)]\n",
        "  elif \"back\" == u:\n",
        "    logs.pop()\n",
        "    u = logs.pop()\n",
        "\n",
        "\n",
        "  res = get_reply(u)\n",
        "  logs.append(u)\n",
        "  for i, l in enumerate(logs):\n",
        "    print(\"log \" + str(i) + \": \" , l)\n",
        "  for i, r in enumerate(res):\n",
        "    print(i, r)\n",
        " \n",
        "# 使用方法\n",
        "# 1. \">\"の右の入力欄に最初のセリフを入力します\n",
        "# 2. 現在までのログと検索された候補が表示されます．\n",
        "# 3. 表示された候補の左の数字を\">\"の右の入力欄に入力することでその候補が次のセリフになります．数字以外のものを入力するとそれがセリフになります．\n",
        "# 4. 入力を間違えた場合，「back」と入力すると前回の状態に戻ることができます．\n",
        "# 5. 「exit」と入力すると終了します． "
      ],
      "execution_count": null,
      "outputs": []
    }
  ]
}
